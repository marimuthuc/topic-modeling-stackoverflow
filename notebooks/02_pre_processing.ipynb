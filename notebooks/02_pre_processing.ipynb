{
 "cells": [
  {
   "cell_type": "code",
   "execution_count": 1,
   "metadata": {},
   "outputs": [],
   "source": [
    "import pandas as pd\n",
    "from helper_functions.utils import Utils"
   ]
  },
  {
   "cell_type": "code",
   "execution_count": 2,
   "metadata": {},
   "outputs": [
    {
     "name": "stderr",
     "output_type": "stream",
     "text": [
      "[nltk_data] Downloading package wordnet to\n",
      "[nltk_data]     C:\\Users\\muthu\\AppData\\Roaming\\nltk_data...\n",
      "[nltk_data]   Package wordnet is already up-to-date!\n"
     ]
    }
   ],
   "source": [
    "utilities = Utils()"
   ]
  },
  {
   "cell_type": "code",
   "execution_count": 3,
   "metadata": {},
   "outputs": [],
   "source": [
    "so_posts = utilities.dataset_importer(\"../data/raw/nlp_so_posts.csv\", \"Body\")"
   ]
  },
  {
   "cell_type": "code",
   "execution_count": 4,
   "metadata": {},
   "outputs": [
    {
     "name": "stdout",
     "output_type": "stream",
     "text": [
      "<class 'pandas.core.frame.DataFrame'>\n",
      "Index: 39767 entries, 0 to 47545\n",
      "Data columns (total 1 columns):\n",
      " #   Column  Non-Null Count  Dtype \n",
      "---  ------  --------------  ----- \n",
      " 0   Body    39767 non-null  object\n",
      "dtypes: object(1)\n",
      "memory usage: 621.4+ KB\n"
     ]
    }
   ],
   "source": [
    "df = pd.DataFrame(so_posts[\"Body\"])\n",
    "df.info()"
   ]
  },
  {
   "cell_type": "code",
   "execution_count": 5,
   "metadata": {},
   "outputs": [
    {
     "data": {
      "text/html": [
       "<div>\n",
       "<style scoped>\n",
       "    .dataframe tbody tr th:only-of-type {\n",
       "        vertical-align: middle;\n",
       "    }\n",
       "\n",
       "    .dataframe tbody tr th {\n",
       "        vertical-align: top;\n",
       "    }\n",
       "\n",
       "    .dataframe thead th {\n",
       "        text-align: right;\n",
       "    }\n",
       "</style>\n",
       "<table border=\"1\" class=\"dataframe\">\n",
       "  <thead>\n",
       "    <tr style=\"text-align: right;\">\n",
       "      <th></th>\n",
       "      <th>Body</th>\n",
       "    </tr>\n",
       "  </thead>\n",
       "  <tbody>\n",
       "    <tr>\n",
       "      <th>0</th>\n",
       "      <td>&lt;p&gt;I am new to research field in NLP. I want t...</td>\n",
       "    </tr>\n",
       "    <tr>\n",
       "      <th>1</th>\n",
       "      <td>&lt;p&gt;I working with standford core nlp packages....</td>\n",
       "    </tr>\n",
       "    <tr>\n",
       "      <th>2</th>\n",
       "      <td>&lt;p&gt;I'm looking for an existing library to summ...</td>\n",
       "    </tr>\n",
       "    <tr>\n",
       "      <th>3</th>\n",
       "      <td>&lt;p&gt;I am new in NLTK and machine learning. I'm ...</td>\n",
       "    </tr>\n",
       "    <tr>\n",
       "      <th>4</th>\n",
       "      <td>&lt;p&gt;I'm trying to reproduce the example from th...</td>\n",
       "    </tr>\n",
       "  </tbody>\n",
       "</table>\n",
       "</div>"
      ],
      "text/plain": [
       "                                                Body\n",
       "0  <p>I am new to research field in NLP. I want t...\n",
       "1  <p>I working with standford core nlp packages....\n",
       "2  <p>I'm looking for an existing library to summ...\n",
       "3  <p>I am new in NLTK and machine learning. I'm ...\n",
       "4  <p>I'm trying to reproduce the example from th..."
      ]
     },
     "execution_count": 5,
     "metadata": {},
     "output_type": "execute_result"
    }
   ],
   "source": [
    "df.head()"
   ]
  },
  {
   "cell_type": "code",
   "execution_count": 6,
   "metadata": {},
   "outputs": [],
   "source": [
    "df = utilities.remove_code_segments(df)"
   ]
  },
  {
   "cell_type": "code",
   "execution_count": 7,
   "metadata": {},
   "outputs": [
    {
     "data": {
      "text/html": [
       "<div>\n",
       "<style scoped>\n",
       "    .dataframe tbody tr th:only-of-type {\n",
       "        vertical-align: middle;\n",
       "    }\n",
       "\n",
       "    .dataframe tbody tr th {\n",
       "        vertical-align: top;\n",
       "    }\n",
       "\n",
       "    .dataframe thead th {\n",
       "        text-align: right;\n",
       "    }\n",
       "</style>\n",
       "<table border=\"1\" class=\"dataframe\">\n",
       "  <thead>\n",
       "    <tr style=\"text-align: right;\">\n",
       "      <th></th>\n",
       "      <th>Body</th>\n",
       "    </tr>\n",
       "  </thead>\n",
       "  <tbody>\n",
       "    <tr>\n",
       "      <th>0</th>\n",
       "      <td>I am new to research field in NLP. I want to i...</td>\n",
       "    </tr>\n",
       "    <tr>\n",
       "      <th>1</th>\n",
       "      <td>I working with standford core nlp packages. Wh...</td>\n",
       "    </tr>\n",
       "    <tr>\n",
       "      <th>2</th>\n",
       "      <td>I'm looking for an existing library to summari...</td>\n",
       "    </tr>\n",
       "    <tr>\n",
       "      <th>3</th>\n",
       "      <td>I am new in NLTK and machine learning. I'm usi...</td>\n",
       "    </tr>\n",
       "    <tr>\n",
       "      <th>4</th>\n",
       "      <td>I'm trying to reproduce the example from this ...</td>\n",
       "    </tr>\n",
       "  </tbody>\n",
       "</table>\n",
       "</div>"
      ],
      "text/plain": [
       "                                                Body\n",
       "0  I am new to research field in NLP. I want to i...\n",
       "1  I working with standford core nlp packages. Wh...\n",
       "2  I'm looking for an existing library to summari...\n",
       "3  I am new in NLTK and machine learning. I'm usi...\n",
       "4  I'm trying to reproduce the example from this ..."
      ]
     },
     "execution_count": 7,
     "metadata": {},
     "output_type": "execute_result"
    }
   ],
   "source": [
    "df.head()"
   ]
  },
  {
   "cell_type": "code",
   "execution_count": 8,
   "metadata": {},
   "outputs": [],
   "source": [
    "df.loc[:, 'Body'] = df['Body'].apply(lambda x: utilities.clean_text(x))"
   ]
  },
  {
   "cell_type": "code",
   "execution_count": 9,
   "metadata": {},
   "outputs": [
    {
     "data": {
      "text/html": [
       "<div>\n",
       "<style scoped>\n",
       "    .dataframe tbody tr th:only-of-type {\n",
       "        vertical-align: middle;\n",
       "    }\n",
       "\n",
       "    .dataframe tbody tr th {\n",
       "        vertical-align: top;\n",
       "    }\n",
       "\n",
       "    .dataframe thead th {\n",
       "        text-align: right;\n",
       "    }\n",
       "</style>\n",
       "<table border=\"1\" class=\"dataframe\">\n",
       "  <thead>\n",
       "    <tr style=\"text-align: right;\">\n",
       "      <th></th>\n",
       "      <th>Body</th>\n",
       "    </tr>\n",
       "  </thead>\n",
       "  <tbody>\n",
       "    <tr>\n",
       "      <th>0</th>\n",
       "      <td>i am new to research field in nlp. i want to i...</td>\n",
       "    </tr>\n",
       "    <tr>\n",
       "      <th>1</th>\n",
       "      <td>i working with standford core nlp packages. wh...</td>\n",
       "    </tr>\n",
       "    <tr>\n",
       "      <th>2</th>\n",
       "      <td>i am looking for an existing library to summar...</td>\n",
       "    </tr>\n",
       "    <tr>\n",
       "      <th>3</th>\n",
       "      <td>i am new in nltk and machine learning. i am us...</td>\n",
       "    </tr>\n",
       "    <tr>\n",
       "      <th>4</th>\n",
       "      <td>i am trying to reproduce the example from this...</td>\n",
       "    </tr>\n",
       "  </tbody>\n",
       "</table>\n",
       "</div>"
      ],
      "text/plain": [
       "                                                Body\n",
       "0  i am new to research field in nlp. i want to i...\n",
       "1  i working with standford core nlp packages. wh...\n",
       "2  i am looking for an existing library to summar...\n",
       "3  i am new in nltk and machine learning. i am us...\n",
       "4  i am trying to reproduce the example from this..."
      ]
     },
     "execution_count": 9,
     "metadata": {},
     "output_type": "execute_result"
    }
   ],
   "source": [
    "df.head()"
   ]
  },
  {
   "cell_type": "code",
   "execution_count": 10,
   "metadata": {},
   "outputs": [],
   "source": [
    "# Removal of Emojis\n",
    "df.loc[:, 'Body'] = df['Body'].apply(lambda x: utilities.remove_emoji(x))"
   ]
  },
  {
   "cell_type": "code",
   "execution_count": 11,
   "metadata": {},
   "outputs": [],
   "source": [
    "df.loc[:, 'Body'] = df['Body'].apply(lambda x: utilities.clean_punct(x))"
   ]
  },
  {
   "cell_type": "code",
   "execution_count": 12,
   "metadata": {},
   "outputs": [],
   "source": [
    "df.loc[:, 'Body'] = df['Body'].apply(lambda x: utilities.lemitizeWords(x)) \n",
    "df.loc[:, 'Body'] = df['Body'].apply(lambda x: utilities.stopWordsRemove(x)) "
   ]
  },
  {
   "cell_type": "code",
   "execution_count": 13,
   "metadata": {},
   "outputs": [
    {
     "data": {
      "text/html": [
       "<div>\n",
       "<style scoped>\n",
       "    .dataframe tbody tr th:only-of-type {\n",
       "        vertical-align: middle;\n",
       "    }\n",
       "\n",
       "    .dataframe tbody tr th {\n",
       "        vertical-align: top;\n",
       "    }\n",
       "\n",
       "    .dataframe thead th {\n",
       "        text-align: right;\n",
       "    }\n",
       "</style>\n",
       "<table border=\"1\" class=\"dataframe\">\n",
       "  <thead>\n",
       "    <tr style=\"text-align: right;\">\n",
       "      <th></th>\n",
       "      <th>Body</th>\n",
       "    </tr>\n",
       "  </thead>\n",
       "  <tbody>\n",
       "    <tr>\n",
       "      <th>0</th>\n",
       "      <td>new research field nlp want implement paper ar...</td>\n",
       "    </tr>\n",
       "    <tr>\n",
       "      <th>1</th>\n",
       "      <td>work standford core nlp package give set jar f...</td>\n",
       "    </tr>\n",
       "    <tr>\n",
       "      <th>2</th>\n",
       "      <td>look exist library summarize paraphrase conten...</td>\n",
       "    </tr>\n",
       "    <tr>\n",
       "      <th>3</th>\n",
       "      <td>new nltk machine learn use python nltk naive b...</td>\n",
       "    </tr>\n",
       "    <tr>\n",
       "      <th>4</th>\n",
       "      <td>try reproduce example article httpsmediumcomng...</td>\n",
       "    </tr>\n",
       "  </tbody>\n",
       "</table>\n",
       "</div>"
      ],
      "text/plain": [
       "                                                Body\n",
       "0  new research field nlp want implement paper ar...\n",
       "1  work standford core nlp package give set jar f...\n",
       "2  look exist library summarize paraphrase conten...\n",
       "3  new nltk machine learn use python nltk naive b...\n",
       "4  try reproduce example article httpsmediumcomng..."
      ]
     },
     "execution_count": 13,
     "metadata": {},
     "output_type": "execute_result"
    }
   ],
   "source": [
    "df.head()"
   ]
  },
  {
   "cell_type": "code",
   "execution_count": 14,
   "metadata": {},
   "outputs": [],
   "source": [
    "so_posts[\"cleaned_text\"] = df[\"Body\"]"
   ]
  },
  {
   "cell_type": "code",
   "execution_count": 15,
   "metadata": {},
   "outputs": [],
   "source": [
    "so_posts.to_csv('../data/cleaned/cleaned_text.csv', index = False)"
   ]
  },
  {
   "cell_type": "code",
   "execution_count": 16,
   "metadata": {},
   "outputs": [
    {
     "data": {
      "text/html": [
       "<div>\n",
       "<style scoped>\n",
       "    .dataframe tbody tr th:only-of-type {\n",
       "        vertical-align: middle;\n",
       "    }\n",
       "\n",
       "    .dataframe tbody tr th {\n",
       "        vertical-align: top;\n",
       "    }\n",
       "\n",
       "    .dataframe thead th {\n",
       "        text-align: right;\n",
       "    }\n",
       "</style>\n",
       "<table border=\"1\" class=\"dataframe\">\n",
       "  <thead>\n",
       "    <tr style=\"text-align: right;\">\n",
       "      <th></th>\n",
       "      <th>Post Link</th>\n",
       "      <th>PostTypeId</th>\n",
       "      <th>OwnerUserId</th>\n",
       "      <th>Answer Link</th>\n",
       "      <th>Title</th>\n",
       "      <th>Body</th>\n",
       "      <th>CreationDate</th>\n",
       "      <th>ClosedDate</th>\n",
       "      <th>LastEditDate</th>\n",
       "      <th>LastActivityDate</th>\n",
       "      <th>Tags</th>\n",
       "      <th>AnswerCount</th>\n",
       "      <th>CommentCount</th>\n",
       "      <th>Score</th>\n",
       "      <th>ViewCount</th>\n",
       "      <th>FavoriteCount</th>\n",
       "      <th>cleaned_text</th>\n",
       "    </tr>\n",
       "  </thead>\n",
       "  <tbody>\n",
       "    <tr>\n",
       "      <th>0</th>\n",
       "      <td>39784522</td>\n",
       "      <td>1</td>\n",
       "      <td>3157709.0</td>\n",
       "      <td>NaN</td>\n",
       "      <td>Can Artificial Neural Networks Learn Language ...</td>\n",
       "      <td>&lt;p&gt;I am new to research field in NLP. I want t...</td>\n",
       "      <td>30-09-2016 05:47</td>\n",
       "      <td>NaN</td>\n",
       "      <td>NaN</td>\n",
       "      <td>30-09-2016 07:46</td>\n",
       "      <td>&lt;nlp&gt;&lt;neural-network&gt;&lt;language-model&gt;</td>\n",
       "      <td>1.0</td>\n",
       "      <td>0</td>\n",
       "      <td>1</td>\n",
       "      <td>126.0</td>\n",
       "      <td>0.0</td>\n",
       "      <td>new research field nlp want implement paper ar...</td>\n",
       "    </tr>\n",
       "    <tr>\n",
       "      <th>1</th>\n",
       "      <td>20368838</td>\n",
       "      <td>1</td>\n",
       "      <td>2518644.0</td>\n",
       "      <td>NaN</td>\n",
       "      <td>Compile java program using external jar file</td>\n",
       "      <td>&lt;p&gt;I working with standford core nlp packages....</td>\n",
       "      <td>04-12-2013 06:47</td>\n",
       "      <td>NaN</td>\n",
       "      <td>26-11-2014 05:08</td>\n",
       "      <td>26-11-2014 05:08</td>\n",
       "      <td>&lt;java&gt;&lt;stanford-nlp&gt;</td>\n",
       "      <td>2.0</td>\n",
       "      <td>0</td>\n",
       "      <td>1</td>\n",
       "      <td>1082.0</td>\n",
       "      <td>NaN</td>\n",
       "      <td>work standford core nlp package give set jar f...</td>\n",
       "    </tr>\n",
       "    <tr>\n",
       "      <th>2</th>\n",
       "      <td>25332</td>\n",
       "      <td>1</td>\n",
       "      <td>1592.0</td>\n",
       "      <td>NaN</td>\n",
       "      <td>What's a good natural language library to use ...</td>\n",
       "      <td>&lt;p&gt;I'm looking for an existing library to summ...</td>\n",
       "      <td>24-08-2008 20:57</td>\n",
       "      <td>02-01-2016 07:47</td>\n",
       "      <td>28-01-2009 00:24</td>\n",
       "      <td>02-04-2014 23:33</td>\n",
       "      <td>&lt;language-agnostic&gt;&lt;nlp&gt;</td>\n",
       "      <td>4.0</td>\n",
       "      <td>1</td>\n",
       "      <td>14</td>\n",
       "      <td>6283.0</td>\n",
       "      <td>0.0</td>\n",
       "      <td>look exist library summarize paraphrase conten...</td>\n",
       "    </tr>\n",
       "    <tr>\n",
       "      <th>3</th>\n",
       "      <td>19425359</td>\n",
       "      <td>1</td>\n",
       "      <td>2890097.0</td>\n",
       "      <td>NaN</td>\n",
       "      <td>Save Naive Bayes Classifier in memory</td>\n",
       "      <td>&lt;p&gt;I am new in NLTK and machine learning. I'm ...</td>\n",
       "      <td>17-10-2013 11:22</td>\n",
       "      <td>NaN</td>\n",
       "      <td>04-09-2015 08:40</td>\n",
       "      <td>04-09-2015 08:40</td>\n",
       "      <td>&lt;python&gt;&lt;nltk&gt;</td>\n",
       "      <td>1.0</td>\n",
       "      <td>2</td>\n",
       "      <td>1</td>\n",
       "      <td>791.0</td>\n",
       "      <td>NaN</td>\n",
       "      <td>new nltk machine learn use python nltk naive b...</td>\n",
       "    </tr>\n",
       "    <tr>\n",
       "      <th>4</th>\n",
       "      <td>57720955</td>\n",
       "      <td>1</td>\n",
       "      <td>4544413.0</td>\n",
       "      <td>NaN</td>\n",
       "      <td>Can't import the encoder code for fine tuning ...</td>\n",
       "      <td>&lt;p&gt;I'm trying to reproduce the example from th...</td>\n",
       "      <td>30-08-2019 05:30</td>\n",
       "      <td>NaN</td>\n",
       "      <td>29-11-2020 11:58</td>\n",
       "      <td>02-04-2023 17:27</td>\n",
       "      <td>&lt;python&gt;&lt;path&gt;&lt;nlp&gt;&lt;init&gt;&lt;gpt-2&gt;</td>\n",
       "      <td>5.0</td>\n",
       "      <td>1</td>\n",
       "      <td>3</td>\n",
       "      <td>2993.0</td>\n",
       "      <td>NaN</td>\n",
       "      <td>try reproduce example article httpsmediumcomng...</td>\n",
       "    </tr>\n",
       "  </tbody>\n",
       "</table>\n",
       "</div>"
      ],
      "text/plain": [
       "   Post Link  PostTypeId  OwnerUserId  Answer Link  \\\n",
       "0   39784522           1    3157709.0          NaN   \n",
       "1   20368838           1    2518644.0          NaN   \n",
       "2      25332           1       1592.0          NaN   \n",
       "3   19425359           1    2890097.0          NaN   \n",
       "4   57720955           1    4544413.0          NaN   \n",
       "\n",
       "                                               Title  \\\n",
       "0  Can Artificial Neural Networks Learn Language ...   \n",
       "1       Compile java program using external jar file   \n",
       "2  What's a good natural language library to use ...   \n",
       "3              Save Naive Bayes Classifier in memory   \n",
       "4  Can't import the encoder code for fine tuning ...   \n",
       "\n",
       "                                                Body      CreationDate  \\\n",
       "0  <p>I am new to research field in NLP. I want t...  30-09-2016 05:47   \n",
       "1  <p>I working with standford core nlp packages....  04-12-2013 06:47   \n",
       "2  <p>I'm looking for an existing library to summ...  24-08-2008 20:57   \n",
       "3  <p>I am new in NLTK and machine learning. I'm ...  17-10-2013 11:22   \n",
       "4  <p>I'm trying to reproduce the example from th...  30-08-2019 05:30   \n",
       "\n",
       "         ClosedDate      LastEditDate  LastActivityDate  \\\n",
       "0               NaN               NaN  30-09-2016 07:46   \n",
       "1               NaN  26-11-2014 05:08  26-11-2014 05:08   \n",
       "2  02-01-2016 07:47  28-01-2009 00:24  02-04-2014 23:33   \n",
       "3               NaN  04-09-2015 08:40  04-09-2015 08:40   \n",
       "4               NaN  29-11-2020 11:58  02-04-2023 17:27   \n",
       "\n",
       "                                    Tags  AnswerCount  CommentCount  Score  \\\n",
       "0  <nlp><neural-network><language-model>          1.0             0      1   \n",
       "1                   <java><stanford-nlp>          2.0             0      1   \n",
       "2               <language-agnostic><nlp>          4.0             1     14   \n",
       "3                         <python><nltk>          1.0             2      1   \n",
       "4       <python><path><nlp><init><gpt-2>          5.0             1      3   \n",
       "\n",
       "   ViewCount  FavoriteCount                                       cleaned_text  \n",
       "0      126.0            0.0  new research field nlp want implement paper ar...  \n",
       "1     1082.0            NaN  work standford core nlp package give set jar f...  \n",
       "2     6283.0            0.0  look exist library summarize paraphrase conten...  \n",
       "3      791.0            NaN  new nltk machine learn use python nltk naive b...  \n",
       "4     2993.0            NaN  try reproduce example article httpsmediumcomng...  "
      ]
     },
     "execution_count": 16,
     "metadata": {},
     "output_type": "execute_result"
    }
   ],
   "source": [
    "so_posts.head()"
   ]
  },
  {
   "cell_type": "code",
   "execution_count": null,
   "metadata": {},
   "outputs": [],
   "source": []
  }
 ],
 "metadata": {
  "kernelspec": {
   "display_name": ".venv",
   "language": "python",
   "name": "python3"
  },
  "language_info": {
   "codemirror_mode": {
    "name": "ipython",
    "version": 3
   },
   "file_extension": ".py",
   "mimetype": "text/x-python",
   "name": "python",
   "nbconvert_exporter": "python",
   "pygments_lexer": "ipython3",
   "version": "3.10.11"
  },
  "orig_nbformat": 4
 },
 "nbformat": 4,
 "nbformat_minor": 2
}
