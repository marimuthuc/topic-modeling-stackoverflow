{
 "cells": [
  {
   "cell_type": "code",
   "execution_count": 2,
   "metadata": {},
   "outputs": [],
   "source": [
    "import re\n",
    "import numpy as np\n",
    "from pprint import pprint\n",
    "\n",
    "# NLTK\n",
    "from nltk.corpus import stopwords\n",
    "\n",
    "# Gensim\n",
    "import gensim\n",
    "import gensim.corpora as corpora\n",
    "from gensim.utils import simple_preprocess\n",
    "from gensim.models import CoherenceModel, LdaModel, LsiModel, HdpModel, Nmf\n",
    "\n",
    "# Plotting tools\n",
    "import matplotlib.pyplot as plt\n",
    "%matplotlib inline\n",
    "\n",
    "# spacy for lemmatization\n",
    "import spacy\n",
    "\n",
    "\n",
    "import warnings\n",
    "warnings.filterwarnings(\"ignore\",category=DeprecationWarning)\n",
    "\n",
    "from helper_functions.utils import Utils\n",
    "from config import common_stop_words"
   ]
  },
  {
   "cell_type": "code",
   "execution_count": 3,
   "metadata": {},
   "outputs": [
    {
     "name": "stderr",
     "output_type": "stream",
     "text": [
      "[nltk_data] Downloading package wordnet to\n",
      "[nltk_data]     C:\\Users\\muthu\\AppData\\Roaming\\nltk_data...\n",
      "[nltk_data]   Package wordnet is already up-to-date!\n"
     ]
    }
   ],
   "source": [
    "utilities = Utils()\n",
    "so_posts = utilities.dataset_importer(\"../data/cleaned/cleaned_text.csv\", \"cleaned_text\")"
   ]
  },
  {
   "cell_type": "code",
   "execution_count": 4,
   "metadata": {},
   "outputs": [
    {
     "data": {
      "text/plain": [
       "0    new research field nlp want implement paper ar...\n",
       "1    work standford core nlp package give set jar f...\n",
       "2    look exist library summarize paraphrase conten...\n",
       "3    new nltk machine learn use python nltk naive b...\n",
       "4    try reproduce example article httpsmediumcomng...\n",
       "Name: cleaned_text, dtype: object"
      ]
     },
     "execution_count": 4,
     "metadata": {},
     "output_type": "execute_result"
    }
   ],
   "source": [
    "cleaned_text = so_posts[\"cleaned_text\"]\n",
    "cleaned_text.head()"
   ]
  },
  {
   "cell_type": "code",
   "execution_count": 5,
   "metadata": {},
   "outputs": [],
   "source": [
    "stop_words = stopwords.words('english')\n",
    "stop_words.extend(['00', 'from', 'subject', 're', 'edu', 'use','a','about', 'above', 'across', 'want', 'need', 'thank', 'know', 'like', 'use', 'try', 'help', 'work'])\n",
    "stop_words.extend(common_stop_words)"
   ]
  },
  {
   "cell_type": "markdown",
   "metadata": {},
   "source": [
    "# Preparing Data for Topic Modeling"
   ]
  },
  {
   "cell_type": "code",
   "execution_count": 6,
   "metadata": {},
   "outputs": [
    {
     "name": "stdout",
     "output_type": "stream",
     "text": [
      "['new research field nlp want implement paper artificial neural network learn '\n",
      " 'language model paper first time step take neural network learn language '\n",
      " 'model understand paper everything understandable confusions last section '\n",
      " 'paper find code paper old even find train data communicator telephone air '\n",
      " 'travel information system use time also email professors paper email id one '\n",
      " 'expire wait response one anyone help situation guidelines would valuable new '\n",
      " 'comers research field would thankful']\n"
     ]
    }
   ],
   "source": [
    "so_posts[\"cleaned_text\"] = so_posts[\"cleaned_text\"].astype(str)\n",
    "# Convert to list\n",
    "df = so_posts.cleaned_text.values.tolist()\n",
    "\n",
    "df = [re.sub('\\S*@\\S*\\s?', '', sent) for sent in df]\n",
    "\n",
    "# Remove new line characters\n",
    "df = [re.sub('\\s+', ' ', sent) for sent in df]\n",
    "\n",
    "# Remove distracting single quotes\n",
    "df = [re.sub(\"\\'\", \"\", sent) for sent in df]\n",
    "\n",
    "pprint(df[:1])"
   ]
  },
  {
   "cell_type": "code",
   "execution_count": 7,
   "metadata": {},
   "outputs": [],
   "source": [
    "df = [re.sub(\"-\", \" \", sent) for sent in df]\n",
    "df = [re.sub(\":\", \"\", sent) for sent in df]"
   ]
  },
  {
   "cell_type": "code",
   "execution_count": 8,
   "metadata": {},
   "outputs": [],
   "source": [
    "def sent_to_words(sentences):\n",
    "    for sentence in sentences:\n",
    "        yield(gensim.utils.simple_preprocess(str(sentence), deacc=True))\n",
    "\n",
    "df_words = list(sent_to_words(df))"
   ]
  },
  {
   "cell_type": "code",
   "execution_count": 9,
   "metadata": {},
   "outputs": [],
   "source": [
    "# Build the bigram and trigram models\n",
    "\n",
    "bigram = gensim.models.Phrases(df_words, min_count=5, threshold=100) # higher threshold fewer phrases.\n",
    "trigram = gensim.models.Phrases(bigram[df_words], threshold=100)  \n",
    "\n",
    "# Faster way to get a sentence clubbed as a trigram/bigram\n",
    "\n",
    "bigram_mod = gensim.models.phrases.Phraser(bigram)\n",
    "trigram_mod = gensim.models.phrases.Phraser(trigram)"
   ]
  },
  {
   "cell_type": "code",
   "execution_count": 10,
   "metadata": {},
   "outputs": [],
   "source": [
    "def remove_stopwords(texts):\n",
    "    return [[word for word in simple_preprocess(str(doc)) if word not in stop_words] for doc in texts]\n",
    "\n",
    "def make_bigrams(texts):\n",
    "    return [bigram_mod[doc] for doc in texts]\n",
    "\n",
    "def make_trigrams(texts):\n",
    "    return [trigram_mod[bigram_mod[doc]] for doc in texts]\n",
    "\n",
    "def lemmatization(texts, allowed_postags=['NOUN', 'ADJ', 'VERB', 'ADV']):\n",
    "    texts_out = []\n",
    "    for sent in texts:\n",
    "        doc = nlp(\" \".join(sent)) \n",
    "        texts_out.append([token.lemma_ for token in doc if token.pos_ in allowed_postags])\n",
    "    return texts_out"
   ]
  },
  {
   "cell_type": "code",
   "execution_count": 11,
   "metadata": {},
   "outputs": [],
   "source": [
    "# Remove Stop Words\n",
    "\n",
    "data_words_nostops = remove_stopwords(df_words)\n",
    "\n",
    "# Form Bigrams\n",
    "\n",
    "data_words_bigrams = make_bigrams(data_words_nostops)\n",
    "\n",
    "nlp = spacy.load('en_core_web_sm', disable=['parser', 'ner'])\n",
    "\n",
    "data_lemmatized = lemmatization(data_words_bigrams, allowed_postags=['NOUN', 'ADJ', 'VERB', 'ADV'])"
   ]
  },
  {
   "cell_type": "code",
   "execution_count": 12,
   "metadata": {},
   "outputs": [],
   "source": [
    "# Create Dictionary\n",
    "id2word = corpora.Dictionary(data_lemmatized)\n",
    "\n",
    "# Create Corpus\n",
    "texts = data_lemmatized\n",
    "\n",
    "# Term Document Frequency\n",
    "corpus = [id2word.doc2bow(text) for text in texts]"
   ]
  },
  {
   "cell_type": "code",
   "execution_count": 13,
   "metadata": {},
   "outputs": [
    {
     "data": {
      "text/plain": [
       "[[('code', 1),\n",
       "  ('execute', 1),\n",
       "  ('file', 1),\n",
       "  ('come', 1),\n",
       "  ('create', 1),\n",
       "  ('read', 1),\n",
       "  ('error', 1),\n",
       "  ('follow', 1),\n",
       "  ('document', 1),\n",
       "  ('folder', 1),\n",
       "  ('notepad', 1),\n",
       "  ('rest', 1),\n",
       "  ('txt', 1),\n",
       "  ('txttxt', 1)]]"
      ]
     },
     "execution_count": 13,
     "metadata": {},
     "output_type": "execute_result"
    }
   ],
   "source": [
    "[[(id2word[id], freq) for id, freq in cp] for cp in corpus[11:12]]"
   ]
  },
  {
   "cell_type": "markdown",
   "metadata": {},
   "source": [
    "# Topic Modeling Algorithms Comparison"
   ]
  },
  {
   "cell_type": "code",
   "execution_count": 14,
   "metadata": {},
   "outputs": [],
   "source": [
    "NUM_TOPICS = 10"
   ]
  },
  {
   "cell_type": "code",
   "execution_count": 15,
   "metadata": {},
   "outputs": [],
   "source": [
    "lsimodel = LsiModel(corpus=corpus, num_topics=NUM_TOPICS, id2word=id2word)\n",
    "lsitopics = lsimodel.show_topics(formatted=False)"
   ]
  },
  {
   "cell_type": "code",
   "execution_count": 17,
   "metadata": {},
   "outputs": [],
   "source": [
    "hdpmodel = HdpModel(corpus=corpus, id2word=id2word)\n",
    "hdptopics = hdpmodel.show_topics(num_topics=NUM_TOPICS, formatted=False)"
   ]
  },
  {
   "cell_type": "code",
   "execution_count": 18,
   "metadata": {},
   "outputs": [],
   "source": [
    "lda_model = LdaModel(corpus=corpus, num_topics=NUM_TOPICS, id2word=id2word)\n",
    "ldatopics = lda_model.show_topics(formatted=False)"
   ]
  },
  {
   "cell_type": "code",
   "execution_count": 19,
   "metadata": {},
   "outputs": [],
   "source": [
    "nmf_model = Nmf(corpus=corpus, num_topics=NUM_TOPICS, id2word=id2word)\n",
    "nmftopics = nmf_model.show_topics(formatted=False)"
   ]
  },
  {
   "cell_type": "code",
   "execution_count": 20,
   "metadata": {},
   "outputs": [],
   "source": [
    "lsitopics = [[word for word, prob in topic] for topicid, topic in lsitopics]\n",
    "\n",
    "hdptopics = [[word for word, prob in topic] for topicid, topic in hdptopics]\n",
    "\n",
    "ldatopics = [[word for word, prob in topic] for topicid, topic in ldatopics]\n",
    "\n",
    "nmftopics = [[word for word, prob in topic] for topicid, topic in nmftopics]"
   ]
  },
  {
   "cell_type": "code",
   "execution_count": 21,
   "metadata": {},
   "outputs": [],
   "source": [
    "lsi_coherence = CoherenceModel(topics=lsitopics, texts=data_lemmatized, dictionary=id2word, window_size=10).get_coherence()\n",
    "\n",
    "hdp_coherence = CoherenceModel(topics=hdptopics, texts=data_lemmatized, dictionary=id2word, window_size=10).get_coherence()\n",
    "\n",
    "lda_coherence = CoherenceModel(topics=ldatopics, texts=data_lemmatized, dictionary=id2word, window_size=10).get_coherence()\n",
    "\n",
    "nmf_coherence = CoherenceModel(topics=nmftopics, texts=data_lemmatized, dictionary=id2word, window_size=10).get_coherence()"
   ]
  },
  {
   "cell_type": "code",
   "execution_count": 22,
   "metadata": {},
   "outputs": [],
   "source": [
    "def evaluate_bar_graph(coherences, indices):\n",
    "    assert len(coherences) == len(indices)\n",
    "    n = len(coherences)\n",
    "    x = np.arange(n)\n",
    "    plt.figure(figsize=(12,12))\n",
    "    plt.bar(x, coherences, width=0.2, tick_label=indices, align='center')\n",
    "    plt.xlabel('Models')\n",
    "    plt.ylabel('Coherence Value')"
   ]
  },
  {
   "cell_type": "code",
   "execution_count": 23,
   "metadata": {},
   "outputs": [
    {
     "data": {
      "image/png": "[encoded data removed]",
      "text/plain": [
       "<Figure size 1200x1200 with 1 Axes>"
      ]
     },
     "metadata": {},
     "output_type": "display_data"
    }
   ],
   "source": [
    "evaluate_bar_graph([lsi_coherence, hdp_coherence, lda_coherence, nmf_coherence],\n",
    "                   ['LSI', 'HDP', 'LDA', 'NMF'])"
   ]
  },
  {
   "cell_type": "code",
   "execution_count": 24,
   "metadata": {},
   "outputs": [],
   "source": [
    "coherence_comparison = [lsi_coherence, hdp_coherence, lda_coherence, nmf_coherence]"
   ]
  },
  {
   "cell_type": "code",
   "execution_count": 25,
   "metadata": {},
   "outputs": [
    {
     "data": {
      "text/plain": [
       "[0.3086983427906972,\n",
       " 0.17381302844249308,\n",
       " 0.4847541865216323,\n",
       " 0.387492581726783]"
      ]
     },
     "execution_count": 25,
     "metadata": {},
     "output_type": "execute_result"
    }
   ],
   "source": [
    "coherence_comparison"
   ]
  },
  {
   "cell_type": "code",
   "execution_count": 26,
   "metadata": {},
   "outputs": [
    {
     "data": {
      "text/plain": [
       "[['word',\n",
       "  'text',\n",
       "  'number',\n",
       "  'frequency',\n",
       "  'count',\n",
       "  'character',\n",
       "  'remove',\n",
       "  'example',\n",
       "  'list',\n",
       "  'string'],\n",
       " ['document',\n",
       "  'word',\n",
       "  'term',\n",
       "  'way',\n",
       "  'similarity',\n",
       "  'score',\n",
       "  'result',\n",
       "  'calculate',\n",
       "  'similar',\n",
       "  'cluster'],\n",
       " ['error',\n",
       "  'code',\n",
       "  'run',\n",
       "  'follow',\n",
       "  'issue',\n",
       "  'problem',\n",
       "  'version',\n",
       "  'file',\n",
       "  'package',\n",
       "  'import'],\n",
       " ['entity',\n",
       "  'example',\n",
       "  'text',\n",
       "  'match',\n",
       "  'extract',\n",
       "  'tag',\n",
       "  'spacy',\n",
       "  'way',\n",
       "  'date',\n",
       "  'question'],\n",
       " ['topic',\n",
       "  'sentence',\n",
       "  'document',\n",
       "  'lda',\n",
       "  'example',\n",
       "  'word',\n",
       "  'phrase',\n",
       "  'text',\n",
       "  'extract',\n",
       "  'way'],\n",
       " ['train',\n",
       "  'datum',\n",
       "  'label',\n",
       "  'dataset',\n",
       "  'model',\n",
       "  'set',\n",
       "  'test',\n",
       "  'feature',\n",
       "  'classification',\n",
       "  'text'],\n",
       " ['model',\n",
       "  'vector',\n",
       "  'word',\n",
       "  'train',\n",
       "  'input',\n",
       "  'layer',\n",
       "  'output',\n",
       "  'embedding',\n",
       "  'matrix',\n",
       "  'sentence'],\n",
       " ['file',\n",
       "  'application',\n",
       "  'start',\n",
       "  'user',\n",
       "  'web',\n",
       "  'run',\n",
       "  'download',\n",
       "  'server',\n",
       "  'page',\n",
       "  'deploy'],\n",
       " ['file',\n",
       "  'text',\n",
       "  'column',\n",
       "  'list',\n",
       "  'code',\n",
       "  'output',\n",
       "  'datum',\n",
       "  'row',\n",
       "  'function',\n",
       "  'follow'],\n",
       " ['model',\n",
       "  'train',\n",
       "  'load',\n",
       "  'save',\n",
       "  'new',\n",
       "  'create',\n",
       "  'tokenizer',\n",
       "  'language',\n",
       "  'pipeline',\n",
       "  'custom']]"
      ]
     },
     "execution_count": 26,
     "metadata": {},
     "output_type": "execute_result"
    }
   ],
   "source": [
    "ldatopics"
   ]
  },
  {
   "cell_type": "code",
   "execution_count": null,
   "metadata": {},
   "outputs": [],
   "source": []
  }
 ],
 "metadata": {
  "kernelspec": {
   "display_name": ".venv",
   "language": "python",
   "name": "python3"
  },
  "language_info": {
   "codemirror_mode": {
    "name": "ipython",
    "version": 3
   },
   "file_extension": ".py",
   "mimetype": "text/x-python",
   "name": "python",
   "nbconvert_exporter": "python",
   "pygments_lexer": "ipython3",
   "version": "3.10.11"
  },
  "orig_nbformat": 4
 },
 "nbformat": 4,
 "nbformat_minor": 2
}
