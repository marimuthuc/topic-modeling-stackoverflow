{
 "cells": [
  {
   "cell_type": "code",
   "execution_count": 1,
   "metadata": {},
   "outputs": [],
   "source": [
    "import pandas as pd\n",
    "from helper_functions.utils import Utils"
   ]
  },
  {
   "cell_type": "code",
   "execution_count": 2,
   "metadata": {},
   "outputs": [
    {
     "name": "stderr",
     "output_type": "stream",
     "text": [
      "[nltk_data] Downloading package wordnet to\n",
      "[nltk_data]     C:\\Users\\muthu\\AppData\\Roaming\\nltk_data...\n",
      "[nltk_data]   Package wordnet is already up-to-date!\n"
     ]
    }
   ],
   "source": [
    "utilities = Utils()"
   ]
  },
  {
   "cell_type": "code",
   "execution_count": 3,
   "metadata": {},
   "outputs": [],
   "source": [
    "so_posts = utilities.dataset_importer(\"../data/raw/android_gps_energy_data.csv\", \"Body\")"
   ]
  },
  {
   "cell_type": "code",
   "execution_count": 4,
   "metadata": {},
   "outputs": [
    {
     "name": "stdout",
     "output_type": "stream",
     "text": [
      "<class 'pandas.core.frame.DataFrame'>\n",
      "Index: 30917 entries, 0 to 33117\n",
      "Data columns (total 1 columns):\n",
      " #   Column  Non-Null Count  Dtype \n",
      "---  ------  --------------  ----- \n",
      " 0   Body    30917 non-null  object\n",
      "dtypes: object(1)\n",
      "memory usage: 483.1+ KB\n"
     ]
    }
   ],
   "source": [
    "df = pd.DataFrame(so_posts[\"Body\"])\n",
    "df.info()"
   ]
  },
  {
   "cell_type": "code",
   "execution_count": 5,
   "metadata": {},
   "outputs": [
    {
     "data": {
      "text/html": [
       "<div>\n",
       "<style scoped>\n",
       "    .dataframe tbody tr th:only-of-type {\n",
       "        vertical-align: middle;\n",
       "    }\n",
       "\n",
       "    .dataframe tbody tr th {\n",
       "        vertical-align: top;\n",
       "    }\n",
       "\n",
       "    .dataframe thead th {\n",
       "        text-align: right;\n",
       "    }\n",
       "</style>\n",
       "<table border=\"1\" class=\"dataframe\">\n",
       "  <thead>\n",
       "    <tr style=\"text-align: right;\">\n",
       "      <th></th>\n",
       "      <th>Body</th>\n",
       "    </tr>\n",
       "  </thead>\n",
       "  <tbody>\n",
       "    <tr>\n",
       "      <th>0</th>\n",
       "      <td>&lt;p&gt;I am using ClusterManager from Google to re...</td>\n",
       "    </tr>\n",
       "    <tr>\n",
       "      <th>1</th>\n",
       "      <td>&lt;p&gt;Is there any way to have access to the blue...</td>\n",
       "    </tr>\n",
       "    <tr>\n",
       "      <th>2</th>\n",
       "      <td>&lt;p&gt;Consider the following: &lt;/p&gt;\\n\\n&lt;pre&gt;&lt;code&gt;...</td>\n",
       "    </tr>\n",
       "    <tr>\n",
       "      <th>3</th>\n",
       "      <td>&lt;hr&gt;\\n\\n&lt;p&gt;i'm trying to figure how i can setu...</td>\n",
       "    </tr>\n",
       "    <tr>\n",
       "      <th>4</th>\n",
       "      <td>&lt;p&gt;i'm trying to get a list of addresses by se...</td>\n",
       "    </tr>\n",
       "  </tbody>\n",
       "</table>\n",
       "</div>"
      ],
      "text/plain": [
       "                                                Body\n",
       "0  <p>I am using ClusterManager from Google to re...\n",
       "1  <p>Is there any way to have access to the blue...\n",
       "2  <p>Consider the following: </p>\\n\\n<pre><code>...\n",
       "3  <hr>\\n\\n<p>i'm trying to figure how i can setu...\n",
       "4  <p>i'm trying to get a list of addresses by se..."
      ]
     },
     "execution_count": 5,
     "metadata": {},
     "output_type": "execute_result"
    }
   ],
   "source": [
    "df.head()"
   ]
  },
  {
   "cell_type": "code",
   "execution_count": 6,
   "metadata": {},
   "outputs": [],
   "source": [
    "df = utilities.remove_code_segments(df)"
   ]
  },
  {
   "cell_type": "code",
   "execution_count": 7,
   "metadata": {},
   "outputs": [
    {
     "data": {
      "text/html": [
       "<div>\n",
       "<style scoped>\n",
       "    .dataframe tbody tr th:only-of-type {\n",
       "        vertical-align: middle;\n",
       "    }\n",
       "\n",
       "    .dataframe tbody tr th {\n",
       "        vertical-align: top;\n",
       "    }\n",
       "\n",
       "    .dataframe thead th {\n",
       "        text-align: right;\n",
       "    }\n",
       "</style>\n",
       "<table border=\"1\" class=\"dataframe\">\n",
       "  <thead>\n",
       "    <tr style=\"text-align: right;\">\n",
       "      <th></th>\n",
       "      <th>Body</th>\n",
       "    </tr>\n",
       "  </thead>\n",
       "  <tbody>\n",
       "    <tr>\n",
       "      <th>0</th>\n",
       "      <td>I am using ClusterManager from Google to rende...</td>\n",
       "    </tr>\n",
       "    <tr>\n",
       "      <th>1</th>\n",
       "      <td>Is there any way to have access to the blue fl...</td>\n",
       "    </tr>\n",
       "    <tr>\n",
       "      <th>2</th>\n",
       "      <td>Consider the following: \\n\\nIf I try to get my...</td>\n",
       "    </tr>\n",
       "    <tr>\n",
       "      <th>3</th>\n",
       "      <td>\\ni'm trying to figure how i can setup a navig...</td>\n",
       "    </tr>\n",
       "    <tr>\n",
       "      <th>4</th>\n",
       "      <td>i'm trying to get a list of addresses by searc...</td>\n",
       "    </tr>\n",
       "  </tbody>\n",
       "</table>\n",
       "</div>"
      ],
      "text/plain": [
       "                                                Body\n",
       "0  I am using ClusterManager from Google to rende...\n",
       "1  Is there any way to have access to the blue fl...\n",
       "2  Consider the following: \\n\\nIf I try to get my...\n",
       "3  \\ni'm trying to figure how i can setup a navig...\n",
       "4  i'm trying to get a list of addresses by searc..."
      ]
     },
     "execution_count": 7,
     "metadata": {},
     "output_type": "execute_result"
    }
   ],
   "source": [
    "df.head()"
   ]
  },
  {
   "cell_type": "code",
   "execution_count": 8,
   "metadata": {},
   "outputs": [],
   "source": [
    "df.loc[:, 'Body'] = df['Body'].apply(lambda x: utilities.clean_text(x))"
   ]
  },
  {
   "cell_type": "code",
   "execution_count": 9,
   "metadata": {},
   "outputs": [
    {
     "data": {
      "text/html": [
       "<div>\n",
       "<style scoped>\n",
       "    .dataframe tbody tr th:only-of-type {\n",
       "        vertical-align: middle;\n",
       "    }\n",
       "\n",
       "    .dataframe tbody tr th {\n",
       "        vertical-align: top;\n",
       "    }\n",
       "\n",
       "    .dataframe thead th {\n",
       "        text-align: right;\n",
       "    }\n",
       "</style>\n",
       "<table border=\"1\" class=\"dataframe\">\n",
       "  <thead>\n",
       "    <tr style=\"text-align: right;\">\n",
       "      <th></th>\n",
       "      <th>Body</th>\n",
       "    </tr>\n",
       "  </thead>\n",
       "  <tbody>\n",
       "    <tr>\n",
       "      <th>0</th>\n",
       "      <td>i am using clustermanager from google to rende...</td>\n",
       "    </tr>\n",
       "    <tr>\n",
       "      <th>1</th>\n",
       "      <td>is there any way to have access to the blue fl...</td>\n",
       "    </tr>\n",
       "    <tr>\n",
       "      <th>2</th>\n",
       "      <td>consider the following: if i try to get my cur...</td>\n",
       "    </tr>\n",
       "    <tr>\n",
       "      <th>3</th>\n",
       "      <td>i am trying to figure how i can setup a naviga...</td>\n",
       "    </tr>\n",
       "    <tr>\n",
       "      <th>4</th>\n",
       "      <td>i am trying to get a list of addresses by sear...</td>\n",
       "    </tr>\n",
       "  </tbody>\n",
       "</table>\n",
       "</div>"
      ],
      "text/plain": [
       "                                                Body\n",
       "0  i am using clustermanager from google to rende...\n",
       "1  is there any way to have access to the blue fl...\n",
       "2  consider the following: if i try to get my cur...\n",
       "3  i am trying to figure how i can setup a naviga...\n",
       "4  i am trying to get a list of addresses by sear..."
      ]
     },
     "execution_count": 9,
     "metadata": {},
     "output_type": "execute_result"
    }
   ],
   "source": [
    "df.head()"
   ]
  },
  {
   "cell_type": "code",
   "execution_count": 10,
   "metadata": {},
   "outputs": [],
   "source": [
    "# Removal of Emojis\n",
    "df.loc[:, 'Body'] = df['Body'].apply(lambda x: utilities.remove_emoji(x))"
   ]
  },
  {
   "cell_type": "code",
   "execution_count": 11,
   "metadata": {},
   "outputs": [],
   "source": [
    "df.loc[:, 'Body'] = df['Body'].apply(lambda x: utilities.clean_punct(x))"
   ]
  },
  {
   "cell_type": "code",
   "execution_count": 12,
   "metadata": {},
   "outputs": [],
   "source": [
    "df.loc[:, 'Body'] = df['Body'].apply(lambda x: utilities.lemitizeWords(x)) \n",
    "df.loc[:, 'Body'] = df['Body'].apply(lambda x: utilities.stopWordsRemove(x)) "
   ]
  },
  {
   "cell_type": "code",
   "execution_count": 13,
   "metadata": {},
   "outputs": [
    {
     "data": {
      "text/html": [
       "<div>\n",
       "<style scoped>\n",
       "    .dataframe tbody tr th:only-of-type {\n",
       "        vertical-align: middle;\n",
       "    }\n",
       "\n",
       "    .dataframe tbody tr th {\n",
       "        vertical-align: top;\n",
       "    }\n",
       "\n",
       "    .dataframe thead th {\n",
       "        text-align: right;\n",
       "    }\n",
       "</style>\n",
       "<table border=\"1\" class=\"dataframe\">\n",
       "  <thead>\n",
       "    <tr style=\"text-align: right;\">\n",
       "      <th></th>\n",
       "      <th>Body</th>\n",
       "    </tr>\n",
       "  </thead>\n",
       "  <tbody>\n",
       "    <tr>\n",
       "      <th>0</th>\n",
       "      <td>use clustermanager google render lot place map...</td>\n",
       "    </tr>\n",
       "    <tr>\n",
       "      <th>1</th>\n",
       "      <td>way access blue flash light appear google map ...</td>\n",
       "    </tr>\n",
       "    <tr>\n",
       "      <th>2</th>\n",
       "      <td>consider follow try get current time zone use ...</td>\n",
       "    </tr>\n",
       "    <tr>\n",
       "      <th>3</th>\n",
       "      <td>try figure setup navigation image map web brow...</td>\n",
       "    </tr>\n",
       "    <tr>\n",
       "      <th>4</th>\n",
       "      <td>try get list address search address edittext u...</td>\n",
       "    </tr>\n",
       "  </tbody>\n",
       "</table>\n",
       "</div>"
      ],
      "text/plain": [
       "                                                Body\n",
       "0  use clustermanager google render lot place map...\n",
       "1  way access blue flash light appear google map ...\n",
       "2  consider follow try get current time zone use ...\n",
       "3  try figure setup navigation image map web brow...\n",
       "4  try get list address search address edittext u..."
      ]
     },
     "execution_count": 13,
     "metadata": {},
     "output_type": "execute_result"
    }
   ],
   "source": [
    "df.head()"
   ]
  },
  {
   "cell_type": "code",
   "execution_count": 14,
   "metadata": {},
   "outputs": [],
   "source": [
    "so_posts[\"cleaned_text\"] = df[\"Body\"]"
   ]
  },
  {
   "cell_type": "code",
   "execution_count": 15,
   "metadata": {},
   "outputs": [],
   "source": [
    "so_posts.to_csv('../data/cleaned/cleaned_text.csv', index = False)"
   ]
  },
  {
   "cell_type": "code",
   "execution_count": 16,
   "metadata": {},
   "outputs": [
    {
     "data": {
      "text/html": [
       "<div>\n",
       "<style scoped>\n",
       "    .dataframe tbody tr th:only-of-type {\n",
       "        vertical-align: middle;\n",
       "    }\n",
       "\n",
       "    .dataframe tbody tr th {\n",
       "        vertical-align: top;\n",
       "    }\n",
       "\n",
       "    .dataframe thead th {\n",
       "        text-align: right;\n",
       "    }\n",
       "</style>\n",
       "<table border=\"1\" class=\"dataframe\">\n",
       "  <thead>\n",
       "    <tr style=\"text-align: right;\">\n",
       "      <th></th>\n",
       "      <th>Id</th>\n",
       "      <th>PostTypeId</th>\n",
       "      <th>Title</th>\n",
       "      <th>Body</th>\n",
       "      <th>CreationDate</th>\n",
       "      <th>ClosedDate</th>\n",
       "      <th>LastEditDate</th>\n",
       "      <th>LastActivityDate</th>\n",
       "      <th>Tags</th>\n",
       "      <th>AnswerCount</th>\n",
       "      <th>CommentCount</th>\n",
       "      <th>Score</th>\n",
       "      <th>ViewCount</th>\n",
       "      <th>FavoriteCount</th>\n",
       "      <th>cleaned_text</th>\n",
       "    </tr>\n",
       "  </thead>\n",
       "  <tbody>\n",
       "    <tr>\n",
       "      <th>0</th>\n",
       "      <td>53988720</td>\n",
       "      <td>1</td>\n",
       "      <td>Expand google maps' visible region</td>\n",
       "      <td>&lt;p&gt;I am using ClusterManager from Google to re...</td>\n",
       "      <td>31-12-2018 14:50</td>\n",
       "      <td>NaN</td>\n",
       "      <td>31-12-2018 15:49</td>\n",
       "      <td>31-12-2018 15:49</td>\n",
       "      <td>&lt;android&gt;&lt;google-maps&gt;&lt;google-maps-android-api...</td>\n",
       "      <td>0</td>\n",
       "      <td>4</td>\n",
       "      <td>0</td>\n",
       "      <td>85</td>\n",
       "      <td>NaN</td>\n",
       "      <td>use clustermanager google render lot place map...</td>\n",
       "    </tr>\n",
       "    <tr>\n",
       "      <th>1</th>\n",
       "      <td>53984194</td>\n",
       "      <td>1</td>\n",
       "      <td>Blue flash light (Arc) on Google Maps</td>\n",
       "      <td>&lt;p&gt;Is there any way to have access to the blue...</td>\n",
       "      <td>31-12-2018 06:14</td>\n",
       "      <td>NaN</td>\n",
       "      <td>31-12-2018 08:04</td>\n",
       "      <td>01-01-2019 08:08</td>\n",
       "      <td>&lt;android&gt;&lt;google-maps&gt;&lt;android-sensors&gt;</td>\n",
       "      <td>1</td>\n",
       "      <td>12</td>\n",
       "      <td>3</td>\n",
       "      <td>175</td>\n",
       "      <td>1.0</td>\n",
       "      <td>way access blue flash light appear google map ...</td>\n",
       "    </tr>\n",
       "    <tr>\n",
       "      <th>2</th>\n",
       "      <td>53982668</td>\n",
       "      <td>1</td>\n",
       "      <td>Getting time zone from current geo location of...</td>\n",
       "      <td>&lt;p&gt;Consider the following: &lt;/p&gt;\\n\\n&lt;pre&gt;&lt;code&gt;...</td>\n",
       "      <td>31-12-2018 00:53</td>\n",
       "      <td>NaN</td>\n",
       "      <td>NaN</td>\n",
       "      <td>31-12-2018 17:14</td>\n",
       "      <td>&lt;java&gt;&lt;android&gt;&lt;google-location-services&gt;</td>\n",
       "      <td>1</td>\n",
       "      <td>0</td>\n",
       "      <td>0</td>\n",
       "      <td>50</td>\n",
       "      <td>NaN</td>\n",
       "      <td>consider follow try get current time zone use ...</td>\n",
       "    </tr>\n",
       "    <tr>\n",
       "      <th>3</th>\n",
       "      <td>53977847</td>\n",
       "      <td>1</td>\n",
       "      <td>Building a static image map with navigation</td>\n",
       "      <td>&lt;hr&gt;\\n\\n&lt;p&gt;i'm trying to figure how i can setu...</td>\n",
       "      <td>30-12-2018 13:06</td>\n",
       "      <td>NaN</td>\n",
       "      <td>NaN</td>\n",
       "      <td>30-12-2018 13:06</td>\n",
       "      <td>&lt;android&gt;&lt;node.js&gt;&lt;geolocation&gt;&lt;location&gt;&lt;maps&gt;</td>\n",
       "      <td>0</td>\n",
       "      <td>0</td>\n",
       "      <td>0</td>\n",
       "      <td>14</td>\n",
       "      <td>NaN</td>\n",
       "      <td>try figure setup navigation image map web brow...</td>\n",
       "    </tr>\n",
       "    <tr>\n",
       "      <th>4</th>\n",
       "      <td>53977175</td>\n",
       "      <td>1</td>\n",
       "      <td>How to get a list of addresses by a search wit...</td>\n",
       "      <td>&lt;p&gt;i'm trying to get a list of addresses by se...</td>\n",
       "      <td>30-12-2018 11:18</td>\n",
       "      <td>NaN</td>\n",
       "      <td>NaN</td>\n",
       "      <td>12-02-2019 21:36</td>\n",
       "      <td>&lt;java&gt;&lt;android&gt;&lt;google-maps&gt;</td>\n",
       "      <td>2</td>\n",
       "      <td>0</td>\n",
       "      <td>0</td>\n",
       "      <td>75</td>\n",
       "      <td>NaN</td>\n",
       "      <td>try get list address search address edittext u...</td>\n",
       "    </tr>\n",
       "  </tbody>\n",
       "</table>\n",
       "</div>"
      ],
      "text/plain": [
       "         Id  PostTypeId                                              Title  \\\n",
       "0  53988720           1                 Expand google maps' visible region   \n",
       "1  53984194           1              Blue flash light (Arc) on Google Maps   \n",
       "2  53982668           1  Getting time zone from current geo location of...   \n",
       "3  53977847           1        Building a static image map with navigation   \n",
       "4  53977175           1  How to get a list of addresses by a search wit...   \n",
       "\n",
       "                                                Body      CreationDate  \\\n",
       "0  <p>I am using ClusterManager from Google to re...  31-12-2018 14:50   \n",
       "1  <p>Is there any way to have access to the blue...  31-12-2018 06:14   \n",
       "2  <p>Consider the following: </p>\\n\\n<pre><code>...  31-12-2018 00:53   \n",
       "3  <hr>\\n\\n<p>i'm trying to figure how i can setu...  30-12-2018 13:06   \n",
       "4  <p>i'm trying to get a list of addresses by se...  30-12-2018 11:18   \n",
       "\n",
       "  ClosedDate      LastEditDate  LastActivityDate  \\\n",
       "0        NaN  31-12-2018 15:49  31-12-2018 15:49   \n",
       "1        NaN  31-12-2018 08:04  01-01-2019 08:08   \n",
       "2        NaN               NaN  31-12-2018 17:14   \n",
       "3        NaN               NaN  30-12-2018 13:06   \n",
       "4        NaN               NaN  12-02-2019 21:36   \n",
       "\n",
       "                                                Tags  AnswerCount  \\\n",
       "0  <android><google-maps><google-maps-android-api...            0   \n",
       "1            <android><google-maps><android-sensors>            1   \n",
       "2          <java><android><google-location-services>            1   \n",
       "3    <android><node.js><geolocation><location><maps>            0   \n",
       "4                       <java><android><google-maps>            2   \n",
       "\n",
       "   CommentCount  Score  ViewCount  FavoriteCount  \\\n",
       "0             4      0         85            NaN   \n",
       "1            12      3        175            1.0   \n",
       "2             0      0         50            NaN   \n",
       "3             0      0         14            NaN   \n",
       "4             0      0         75            NaN   \n",
       "\n",
       "                                        cleaned_text  \n",
       "0  use clustermanager google render lot place map...  \n",
       "1  way access blue flash light appear google map ...  \n",
       "2  consider follow try get current time zone use ...  \n",
       "3  try figure setup navigation image map web brow...  \n",
       "4  try get list address search address edittext u...  "
      ]
     },
     "execution_count": 16,
     "metadata": {},
     "output_type": "execute_result"
    }
   ],
   "source": [
    "so_posts.head()"
   ]
  },
  {
   "cell_type": "code",
   "execution_count": null,
   "metadata": {},
   "outputs": [],
   "source": []
  }
 ],
 "metadata": {
  "kernelspec": {
   "display_name": ".venv",
   "language": "python",
   "name": "python3"
  },
  "language_info": {
   "codemirror_mode": {
    "name": "ipython",
    "version": 3
   },
   "file_extension": ".py",
   "mimetype": "text/x-python",
   "name": "python",
   "nbconvert_exporter": "python",
   "pygments_lexer": "ipython3",
   "version": "3.10.11"
  },
  "orig_nbformat": 4
 },
 "nbformat": 4,
 "nbformat_minor": 2
}
