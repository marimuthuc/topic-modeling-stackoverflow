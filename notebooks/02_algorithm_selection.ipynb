{
 "cells": [
  {
   "cell_type": "code",
   "execution_count": 99,
   "metadata": {},
   "outputs": [],
   "source": [
    "import re\n",
    "import numpy as np\n",
    "import pandas as pd\n",
    "from pprint import pprint\n",
    "\n",
    "# NLTK\n",
    "from nltk.corpus import stopwords\n",
    "import nltk;\n",
    "\n",
    "# Gensim\n",
    "import gensim\n",
    "import gensim.corpora as corpora\n",
    "from gensim.utils import simple_preprocess\n",
    "from gensim.models import CoherenceModel, LdaModel, LsiModel, HdpModel\n",
    "\n",
    "# Plotting tools\n",
    "import pyLDAvis\n",
    "import pyLDAvis.gensim \n",
    "import matplotlib.pyplot as plt\n",
    "%matplotlib inline\n",
    "\n",
    "# spacy for lemmatization\n",
    "import spacy\n",
    "\n",
    "#Topic Modeling \n",
    "from sklearn.decomposition import NMF, LatentDirichletAllocation, TruncatedSVD\n",
    "from sklearn.feature_extraction.text import CountVectorizer, TfidfTransformer\n",
    "from sklearn.preprocessing import normalize;\n",
    "\n",
    "import warnings\n",
    "warnings.filterwarnings(\"ignore\",category=DeprecationWarning)\n",
    "\n",
    "from helper_functions.utils import Utils\n",
    "from config import common_stop_words"
   ]
  },
  {
   "cell_type": "code",
   "execution_count": 100,
   "metadata": {},
   "outputs": [
    {
     "name": "stderr",
     "output_type": "stream",
     "text": [
      "[nltk_data] Downloading package wordnet to\n",
      "[nltk_data]     C:\\Users\\muthu\\AppData\\Roaming\\nltk_data...\n",
      "[nltk_data]   Package wordnet is already up-to-date!\n"
     ]
    }
   ],
   "source": [
    "utilities = Utils()\n",
    "so_posts = utilities.dataset_importer(\"../data/cleaned/cleaned_text.csv\", \"cleaned_text\")"
   ]
  },
  {
   "cell_type": "code",
   "execution_count": 101,
   "metadata": {},
   "outputs": [
    {
     "data": {
      "text/plain": [
       "0    use clustermanager google render lot place map...\n",
       "1    way access blue flash light appear google map ...\n",
       "2    consider follow try get current time zone use ...\n",
       "3    try figure setup navigation image map web brow...\n",
       "4    try get list address search address edittext u...\n",
       "Name: cleaned_text, dtype: object"
      ]
     },
     "execution_count": 101,
     "metadata": {},
     "output_type": "execute_result"
    }
   ],
   "source": [
    "cleaned_text = so_posts[\"cleaned_text\"]\n",
    "cleaned_text.head()"
   ]
  },
  {
   "cell_type": "code",
   "execution_count": 102,
   "metadata": {},
   "outputs": [],
   "source": [
    "stop_words = stopwords.words('english')\n",
    "stop_words.extend(['00', 'from', 'subject', 're', 'edu', 'use','a','about', 'above', 'across', 'want', 'need', 'thank', 'know', 'like', 'use', 'try', 'help', 'work'])\n",
    "stop_words.extend(common_stop_words)"
   ]
  },
  {
   "cell_type": "markdown",
   "metadata": {},
   "source": [
    "# LSI"
   ]
  },
  {
   "cell_type": "code",
   "execution_count": 103,
   "metadata": {},
   "outputs": [
    {
     "name": "stdout",
     "output_type": "stream",
     "text": [
      "(30917, 10)\n"
     ]
    }
   ],
   "source": [
    "NUM_TOPICS = 10\n",
    "\n",
    "# Converting the document to a matrix of token counts\n",
    "\n",
    "vectorizer = CountVectorizer(min_df=5, max_df=0.9, \n",
    "                             stop_words='english', lowercase=True, \n",
    "                             token_pattern='[a-zA-Z\\-][a-zA-Z\\-]{2,}')\n",
    "data_vectorized = vectorizer.fit_transform(cleaned_text.values.astype('U'))\n",
    " \n",
    "# Build a Latent Semantic Indexing Model using SVD\n",
    "\n",
    "lsi_model = TruncatedSVD(n_components=NUM_TOPICS)\n",
    "lsi_Z = lsi_model.fit_transform(data_vectorized)\n",
    "print(lsi_Z.shape)"
   ]
  },
  {
   "cell_type": "markdown",
   "metadata": {},
   "source": [
    "# LDA"
   ]
  },
  {
   "cell_type": "code",
   "execution_count": 104,
   "metadata": {},
   "outputs": [
    {
     "name": "stdout",
     "output_type": "stream",
     "text": [
      "['use clustermanager google render lot place map problem might place cluster '\n",
      " 'renderer become extremely slow sometimes take second expand collapse cluster '\n",
      " 'old cluster result still visible screen order optimize want show markers '\n",
      " 'visible user take marker list filter markers outside visible region map '\n",
      " 'however cause reclustering span map odd effect would like filter place '\n",
      " 'visible region around bigger actual one calculate region visibleregion '\n",
      " 'object get google map api']\n"
     ]
    }
   ],
   "source": [
    "# LDA\n",
    "\n",
    "so_posts[\"cleaned_text\"] = so_posts[\"cleaned_text\"].astype(str)\n",
    "# Convert to list\n",
    "df = so_posts.cleaned_text.values.tolist()\n",
    "\n",
    "df = [re.sub('\\S*@\\S*\\s?', '', sent) for sent in df]\n",
    "\n",
    "# Remove new line characters\n",
    "df = [re.sub('\\s+', ' ', sent) for sent in df]\n",
    "\n",
    "# Remove distracting single quotes\n",
    "df = [re.sub(\"\\'\", \"\", sent) for sent in df]\n",
    "\n",
    "pprint(df[:1])"
   ]
  },
  {
   "cell_type": "code",
   "execution_count": 105,
   "metadata": {},
   "outputs": [],
   "source": [
    "df = [re.sub(\"-\", \" \", sent) for sent in df]\n",
    "df = [re.sub(\":\", \"\", sent) for sent in df]"
   ]
  },
  {
   "cell_type": "code",
   "execution_count": 106,
   "metadata": {},
   "outputs": [],
   "source": [
    "def sent_to_words(sentences):\n",
    "    for sentence in sentences:\n",
    "        yield(gensim.utils.simple_preprocess(str(sentence), deacc=True))\n",
    "\n",
    "df_words = list(sent_to_words(df))"
   ]
  },
  {
   "cell_type": "code",
   "execution_count": 107,
   "metadata": {},
   "outputs": [],
   "source": [
    "# Build the bigram and trigram models\n",
    "\n",
    "bigram = gensim.models.Phrases(df_words, min_count=5, threshold=100) # higher threshold fewer phrases.\n",
    "trigram = gensim.models.Phrases(bigram[df_words], threshold=100)  \n",
    "\n",
    "# Faster way to get a sentence clubbed as a trigram/bigram\n",
    "\n",
    "bigram_mod = gensim.models.phrases.Phraser(bigram)\n",
    "trigram_mod = gensim.models.phrases.Phraser(trigram)"
   ]
  },
  {
   "cell_type": "code",
   "execution_count": 108,
   "metadata": {},
   "outputs": [],
   "source": [
    "def remove_stopwords(texts):\n",
    "    return [[word for word in simple_preprocess(str(doc)) if word not in stop_words] for doc in texts]\n",
    "\n",
    "def make_bigrams(texts):\n",
    "    return [bigram_mod[doc] for doc in texts]\n",
    "\n",
    "def make_trigrams(texts):\n",
    "    return [trigram_mod[bigram_mod[doc]] for doc in texts]\n",
    "\n",
    "def lemmatization(texts, allowed_postags=['NOUN', 'ADJ', 'VERB', 'ADV']):\n",
    "    texts_out = []\n",
    "    for sent in texts:\n",
    "        doc = nlp(\" \".join(sent)) \n",
    "        texts_out.append([token.lemma_ for token in doc if token.pos_ in allowed_postags])\n",
    "    return texts_out"
   ]
  },
  {
   "cell_type": "code",
   "execution_count": 109,
   "metadata": {},
   "outputs": [],
   "source": [
    "# Remove Stop Words\n",
    "\n",
    "data_words_nostops = remove_stopwords(df_words)\n",
    "\n",
    "# Form Bigrams\n",
    "\n",
    "data_words_bigrams = make_bigrams(data_words_nostops)\n",
    "\n",
    "nlp = spacy.load('en_core_web_sm', disable=['parser', 'ner'])\n",
    "\n",
    "data_lemmatized = lemmatization(data_words_bigrams, allowed_postags=['NOUN', 'ADJ', 'VERB', 'ADV'])"
   ]
  },
  {
   "cell_type": "code",
   "execution_count": 110,
   "metadata": {},
   "outputs": [],
   "source": [
    "# Create Dictionary\n",
    "id2word = corpora.Dictionary(data_lemmatized)\n",
    "\n",
    "# Create Corpus\n",
    "texts = data_lemmatized\n",
    "\n",
    "# Term Document Frequency\n",
    "corpus = [id2word.doc2bow(text) for text in texts]"
   ]
  },
  {
   "cell_type": "code",
   "execution_count": 111,
   "metadata": {},
   "outputs": [
    {
     "data": {
      "text/plain": [
       "[[('api', 3),\n",
       "  ('map', 4),\n",
       "  ('object', 1),\n",
       "  ('way', 1),\n",
       "  ('figure', 2),\n",
       "  ('image', 1),\n",
       "  ('look', 1),\n",
       "  ('position', 1),\n",
       "  ('phone', 1),\n",
       "  ('randomly', 1),\n",
       "  ('mode', 1),\n",
       "  ('tell', 2),\n",
       "  ('happen', 1),\n",
       "  ('good', 1),\n",
       "  ('high', 1),\n",
       "  ('set', 1),\n",
       "  ('analysis', 1),\n",
       "  ('appropriate', 1),\n",
       "  ('available', 1),\n",
       "  ('bitmap', 1),\n",
       "  ('charge', 2),\n",
       "  ('close', 1),\n",
       "  ('contrast', 1),\n",
       "  ('corner', 1),\n",
       "  ('create', 1),\n",
       "  ('fragile', 1),\n",
       "  ('ideally', 1),\n",
       "  ('intersection', 6),\n",
       "  ('label', 1),\n",
       "  ('latlon', 2),\n",
       "  ('manage', 1),\n",
       "  ('mobile', 1),\n",
       "  ('nearby', 1),\n",
       "  ('normal', 1),\n",
       "  ('output', 1),\n",
       "  ('payment', 1),\n",
       "  ('point', 2),\n",
       "  ('projection', 1),\n",
       "  ('push', 1),\n",
       "  ('quite', 1),\n",
       "  ('radius', 1),\n",
       "  ('road', 1),\n",
       "  ('route', 3),\n",
       "  ('select', 1),\n",
       "  ('snap_road', 1),\n",
       "  ('style', 1),\n",
       "  ('turn', 1),\n",
       "  ('upcoming', 1),\n",
       "  ('version', 1),\n",
       "  ('well', 1),\n",
       "  ('world', 1)]]"
      ]
     },
     "execution_count": 111,
     "metadata": {},
     "output_type": "execute_result"
    }
   ],
   "source": [
    "[[(id2word[id], freq) for id, freq in cp] for cp in corpus[11:12]]"
   ]
  },
  {
   "cell_type": "code",
   "execution_count": 112,
   "metadata": {},
   "outputs": [],
   "source": [
    "lda_model = gensim.models.ldamodel.LdaModel(corpus=corpus,\n",
    "                                           id2word=id2word,\n",
    "                                           num_topics=10, \n",
    "                                           random_state=100,\n",
    "                                           update_every=1,\n",
    "                                           chunksize=100,\n",
    "                                           passes=10,\n",
    "                                           alpha='auto',\n",
    "                                           per_word_topics=True)"
   ]
  },
  {
   "cell_type": "markdown",
   "metadata": {},
   "source": [
    "# HDP"
   ]
  },
  {
   "cell_type": "code",
   "execution_count": 113,
   "metadata": {},
   "outputs": [],
   "source": [
    "from gensim.models import CoherenceModel, HdpModel"
   ]
  },
  {
   "cell_type": "code",
   "execution_count": 114,
   "metadata": {},
   "outputs": [],
   "source": [
    "hdpmodel = HdpModel(corpus=corpus, id2word=id2word)"
   ]
  },
  {
   "cell_type": "code",
   "execution_count": 115,
   "metadata": {},
   "outputs": [],
   "source": [
    "hdptopics = hdpmodel.show_topics(formatted=False)"
   ]
  },
  {
   "cell_type": "markdown",
   "metadata": {},
   "source": [
    "# NMF"
   ]
  },
  {
   "cell_type": "code",
   "execution_count": 116,
   "metadata": {},
   "outputs": [],
   "source": [
    "raw_documents = so_posts[\"cleaned_text\"].str.strip()\n",
    "raw_documents= raw_documents.str.lower()\n",
    "raw_documents = raw_documents.tolist()\n",
    "raw_doc1 = [i.split() for i in raw_documents]"
   ]
  },
  {
   "cell_type": "code",
   "execution_count": 117,
   "metadata": {},
   "outputs": [
    {
     "name": "stdout",
     "output_type": "stream",
     "text": [
      "Created 30917 X 2499 document-term matrix\n"
     ]
    }
   ],
   "source": [
    "from sklearn.feature_extraction.text import CountVectorizer\n",
    "# use a custom stopwords list, set the minimum term-document frequency to 20\n",
    "vectorizer = CountVectorizer(stop_words = stop_words, min_df = 20) #custom_stop_words\n",
    "A = vectorizer.fit_transform(raw_documents)\n",
    "print( \"Created %d X %d document-term matrix\" % (A.shape[0], A.shape[1]) )"
   ]
  },
  {
   "cell_type": "code",
   "execution_count": 118,
   "metadata": {},
   "outputs": [
    {
     "name": "stdout",
     "output_type": "stream",
     "text": [
      "Vocabulary has 2499 distinct terms\n"
     ]
    }
   ],
   "source": [
    "terms = vectorizer.get_feature_names_out()\n",
    "print(\"Vocabulary has %d distinct terms\" % len(terms))"
   ]
  },
  {
   "cell_type": "code",
   "execution_count": 119,
   "metadata": {},
   "outputs": [
    {
     "name": "stdout",
     "output_type": "stream",
     "text": [
      "Created 30917 X 2499 TF-IDF-normalized document-term matrix\n"
     ]
    }
   ],
   "source": [
    "from sklearn.feature_extraction.text import TfidfVectorizer\n",
    "# we can pass in the same preprocessing parameters\n",
    "vectorizer = TfidfVectorizer(stop_words= stop_words, min_df = 20) #custom_stop_words\n",
    "A = vectorizer.fit_transform(raw_documents)\n",
    "print( \"Created %d X %d TF-IDF-normalized document-term matrix\" % (A.shape[0], A.shape[1]) )"
   ]
  },
  {
   "cell_type": "code",
   "execution_count": 120,
   "metadata": {},
   "outputs": [],
   "source": [
    "k = 10\n",
    "# create the model\n",
    "from sklearn import decomposition\n",
    "model = decomposition.NMF( init=\"nndsvd\", n_components=k ) \n",
    "# apply the model and extract the two factor matrices\n",
    "W = model.fit_transform( A )\n",
    "H = model.components_"
   ]
  },
  {
   "cell_type": "code",
   "execution_count": 121,
   "metadata": {},
   "outputs": [],
   "source": [
    "import numpy as np\n",
    "def get_descriptor( terms, H, topic_index, top ):\n",
    "    # reverse sort the values to sort the indices\n",
    "    top_indices = np.argsort( H[topic_index,:] )[::-1]\n",
    "    # now get the terms corresponding to the top-ranked indices\n",
    "    top_terms = []\n",
    "    for term_index in top_indices[0:top]:\n",
    "        top_terms.append( terms[term_index] )\n",
    "    return top_terms"
   ]
  },
  {
   "cell_type": "code",
   "execution_count": 122,
   "metadata": {},
   "outputs": [
    {
     "name": "stdout",
     "output_type": "stream",
     "text": [
      "Topic 01: map, google, android, app, application, display, zoom, load, view, open\n",
      "Topic 02: location, current, user, update, code, change, time, button, method, app\n",
      "Topic 03: marker, markers, click, add, image, custom, info, cluster, window, code\n",
      "Topic 04: error, code, file, follow, manifest, run, logcat, add, project, xml\n",
      "Topic 05: gps, turn, enable, coordinate, app, network, device, android, phone, provider\n",
      "Topic 06: latitude, longitude, value, address, code, place, coordinate, database, lat, return\n",
      "Topic 07: fragment, activity, class, map, layout, button, xml, click, view, main\n",
      "Topic 08: point, draw, route, distance, line, polyline, path, calculate, coordinate, destination\n",
      "Topic 09: service, update, play, app, run, background, start, google, stop, activity\n",
      "Topic 10: api, key, google, android, place, generate, sha, console, debug, project\n"
     ]
    }
   ],
   "source": [
    "descriptors = []\n",
    "for topic_index in range(k):\n",
    "    descriptors.append( get_descriptor( terms, H, topic_index, 10 ) )\n",
    "    str_descriptor = \", \".join( descriptors[topic_index] )"
   ]
  },
  {
   "cell_type": "markdown",
   "metadata": {},
   "source": [
    "# Comparison"
   ]
  },
  {
   "cell_type": "code",
   "execution_count": 123,
   "metadata": {},
   "outputs": [],
   "source": [
    "lsimodel = LsiModel(corpus=corpus, num_topics=5, id2word=id2word)\n",
    "lsitopics = lsimodel.show_topics(formatted=False)"
   ]
  },
  {
   "cell_type": "code",
   "execution_count": 124,
   "metadata": {},
   "outputs": [],
   "source": [
    "ldatopics = lda_model.show_topics(formatted=False)"
   ]
  },
  {
   "cell_type": "code",
   "execution_count": 126,
   "metadata": {},
   "outputs": [],
   "source": [
    "nmf_topics = descriptors"
   ]
  },
  {
   "cell_type": "code",
   "execution_count": 127,
   "metadata": {},
   "outputs": [],
   "source": [
    "lsitopics = [[word for word, prob in topic] for topicid, topic in lsitopics]\n",
    "\n",
    "hdptopics = [[word for word, prob in topic] for topicid, topic in hdptopics]\n",
    "\n",
    "ldatopics = [[word for word, prob in topic] for topicid, topic in ldatopics]\n",
    "\n"
   ]
  },
  {
   "cell_type": "code",
   "execution_count": 128,
   "metadata": {},
   "outputs": [],
   "source": [
    "lsi_coherence = CoherenceModel(topics=lsitopics[:10], texts=data_lemmatized, dictionary=id2word, window_size=10).get_coherence()\n",
    "\n",
    "hdp_coherence = CoherenceModel(topics=hdptopics[:10], texts=data_lemmatized, dictionary=id2word, window_size=10).get_coherence()\n",
    "\n",
    "lda_coherence = CoherenceModel(topics=ldatopics, texts=data_lemmatized, dictionary=id2word, window_size=10).get_coherence()\n",
    "\n",
    "nmf_coherence = CoherenceModel(topics=nmf_topics, texts=data_lemmatized, dictionary=id2word, window_size=10).get_coherence()"
   ]
  },
  {
   "cell_type": "code",
   "execution_count": 129,
   "metadata": {},
   "outputs": [],
   "source": [
    "def evaluate_bar_graph(coherences, indices):\n",
    "    assert len(coherences) == len(indices)\n",
    "    n = len(coherences)\n",
    "    x = np.arange(n)\n",
    "    plt.figure(figsize=(12,12))\n",
    "    plt.bar(x, coherences, width=0.2, tick_label=indices, align='center')\n",
    "    plt.xlabel('Models')\n",
    "    plt.ylabel('Coherence Value')"
   ]
  },
  {
   "cell_type": "code",
   "execution_count": 130,
   "metadata": {},
   "outputs": [
    {
     "data": {
      "image/png": "[encoded data removed]",
      "text/plain": [
       "<Figure size 1200x1200 with 1 Axes>"
      ]
     },
     "metadata": {},
     "output_type": "display_data"
    }
   ],
   "source": [
    "evaluate_bar_graph([lsi_coherence, hdp_coherence, lda_coherence, nmf_coherence],\n",
    "                   ['LSI', 'HDP', 'LDA', 'NMF'])"
   ]
  },
  {
   "cell_type": "code",
   "execution_count": 131,
   "metadata": {},
   "outputs": [],
   "source": [
    "coherence_comparison = [lsi_coherence, hdp_coherence, lda_coherence, nmf_coherence]"
   ]
  },
  {
   "cell_type": "code",
   "execution_count": 132,
   "metadata": {},
   "outputs": [
    {
     "data": {
      "text/plain": [
       "[0.29426265119819633,\n",
       " 0.1786031480675486,\n",
       " 0.32131551882824344,\n",
       " 0.5153169453525057]"
      ]
     },
     "execution_count": 132,
     "metadata": {},
     "output_type": "execute_result"
    }
   ],
   "source": [
    "coherence_comparison"
   ]
  },
  {
   "cell_type": "code",
   "execution_count": null,
   "metadata": {},
   "outputs": [],
   "source": []
  }
 ],
 "metadata": {
  "kernelspec": {
   "display_name": ".venv",
   "language": "python",
   "name": "python3"
  },
  "language_info": {
   "codemirror_mode": {
    "name": "ipython",
    "version": 3
   },
   "file_extension": ".py",
   "mimetype": "text/x-python",
   "name": "python",
   "nbconvert_exporter": "python",
   "pygments_lexer": "ipython3",
   "version": "3.10.11"
  },
  "orig_nbformat": 4
 },
 "nbformat": 4,
 "nbformat_minor": 2
}
